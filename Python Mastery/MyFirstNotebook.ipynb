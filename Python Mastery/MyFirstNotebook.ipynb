{
 "cells": [
  {
   "cell_type": "markdown",
   "id": "c8b5d1cd-e510-436e-bc8f-e927378bc643",
   "metadata": {},
   "source": [
    "# This Is My First Code Heading:"
   ]
  },
  {
   "cell_type": "code",
   "execution_count": 23,
   "id": "61520f88-aafc-4670-bdff-456dfeb74202",
   "metadata": {},
   "outputs": [
    {
     "name": "stdout",
     "output_type": "stream",
     "text": [
      "This is my first line of code in python\n"
     ]
    }
   ],
   "source": [
    "print('This is my first line of code in python');"
   ]
  },
  {
   "cell_type": "code",
   "execution_count": null,
   "id": "706293cb-2ddd-4754-b5fd-0d8b47b72be1",
   "metadata": {},
   "outputs": [],
   "source": []
  }
 ],
 "metadata": {
  "kernelspec": {
   "display_name": "Python 3 (ipykernel)",
   "language": "python",
   "name": "python3"
  },
  "language_info": {
   "codemirror_mode": {
    "name": "ipython",
    "version": 3
   },
   "file_extension": ".py",
   "mimetype": "text/x-python",
   "name": "python",
   "nbconvert_exporter": "python",
   "pygments_lexer": "ipython3",
   "version": "3.12.4"
  }
 },
 "nbformat": 4,
 "nbformat_minor": 5
}

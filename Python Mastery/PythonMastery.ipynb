{
 "cells": [
  {
   "cell_type": "markdown",
   "id": "357cfc85-d805-4d8c-835d-753ab8785b4b",
   "metadata": {},
   "source": [
    "# Python Basics"
   ]
  },
  {
   "cell_type": "markdown",
   "id": "86271812-7c0f-4d23-8b80-abb152b28b94",
   "metadata": {},
   "source": [
    "## 1. Variable & DataTypes"
   ]
  },
  {
   "cell_type": "markdown",
   "id": "26490e5d-4d83-4478-bcbe-d8cd2fa84425",
   "metadata": {},
   "source": [
    "### Integer DataType"
   ]
  },
  {
   "cell_type": "code",
   "execution_count": 44,
   "id": "bc2b53c5-b761-43d6-b41f-962a0208611f",
   "metadata": {},
   "outputs": [
    {
     "name": "stdout",
     "output_type": "stream",
     "text": [
      "User Age is 20\n",
      "User Age DataType is <class 'int'>\n"
     ]
    }
   ],
   "source": [
    "#Integer DataType\n",
    "userAge = 20; #UserAge is a variable.\n",
    "print('User Age is',userAge);\n",
    "print('User Age DataType is',type(userAge));"
   ]
  },
  {
   "cell_type": "markdown",
   "id": "4d8a192e-8d14-4966-a09f-20d3ea34f204",
   "metadata": {},
   "source": [
    "### Float DataType"
   ]
  },
  {
   "cell_type": "code",
   "execution_count": 45,
   "id": "3100732a-14aa-487d-8ff2-ddf0efd761ed",
   "metadata": {},
   "outputs": [
    {
     "name": "stdout",
     "output_type": "stream",
     "text": [
      "User Height is 100.3\n",
      "User Height DataType is <class 'float'>\n"
     ]
    }
   ],
   "source": [
    "#Float DataType\n",
    "userHeight = 100.3; #userHeight is a variable.\n",
    "print('User Height is',userHeight);\n",
    "print('User Height DataType is',type(userHeight));"
   ]
  },
  {
   "cell_type": "markdown",
   "id": "9cee02e2-6244-4cc4-8930-3c2eb39d9c29",
   "metadata": {},
   "source": [
    "### String DataType"
   ]
  },
  {
   "cell_type": "code",
   "execution_count": 46,
   "id": "0ad62c29-8af8-4c8f-9ab2-7d77b2b068d5",
   "metadata": {},
   "outputs": [
    {
     "name": "stdout",
     "output_type": "stream",
     "text": [
      "User Name is Aslam\n",
      "User Name DataType is <class 'str'>\n"
     ]
    }
   ],
   "source": [
    "#String DataType\n",
    "userName = 'Aslam'; #userName is a variable.\n",
    "print('User Name is',userName);\n",
    "print('User Name DataType is',type(userName));"
   ]
  },
  {
   "cell_type": "markdown",
   "id": "9561eead-992a-4b92-bf4e-582f4baa834e",
   "metadata": {},
   "source": [
    "#### Is String is mutable or immutable?"
   ]
  },
  {
   "cell_type": "code",
   "execution_count": 47,
   "id": "3d5e2129-5c71-428b-9ffe-c22097a35bdd",
   "metadata": {},
   "outputs": [
    {
     "name": "stdout",
     "output_type": "stream",
     "text": [
      "aslam khan\n"
     ]
    }
   ],
   "source": [
    "#It is immutable lets suppose an example:\n",
    "name = 'aslam' #name pointing to aslam\n",
    "name = 'aslam khan' #Now: name pointing to aslam khan\n",
    "print(name) #aslam khan: possisble because here name word is just pointing \n",
    "\n",
    "#newname = 'sslam'\n",
    "#newname[0]='a'\n",
    "#print(newname) # Showing Error because string is immutable \n"
   ]
  },
  {
   "cell_type": "markdown",
   "id": "37c726b9-e81e-448a-b1cc-ceadab08a234",
   "metadata": {},
   "source": [
    "### Bool DataType"
   ]
  },
  {
   "cell_type": "code",
   "execution_count": 48,
   "id": "d6d9fe65-0bbe-42a4-bc1c-a02a17c57548",
   "metadata": {},
   "outputs": [
    {
     "name": "stdout",
     "output_type": "stream",
     "text": [
      "False\n",
      "True\n"
     ]
    }
   ],
   "source": [
    "check0 = bool(0);\n",
    "print(check0);\n",
    "check1 = bool(1);\n",
    "print(check1);"
   ]
  },
  {
   "cell_type": "code",
   "execution_count": 49,
   "id": "5a6d177b-b174-4648-9cac-9b5f4c076dcd",
   "metadata": {},
   "outputs": [],
   "source": [
    "### List DataType"
   ]
  },
  {
   "cell_type": "code",
   "execution_count": 50,
   "id": "52c9ade6-e040-4008-8c41-a647ddc9b3a6",
   "metadata": {},
   "outputs": [
    {
     "name": "stdout",
     "output_type": "stream",
     "text": [
      "Items List is ['items1', 100, 'package', 34, 23.5, 12]\n",
      "Items List DataType is <class 'list'>\n"
     ]
    }
   ],
   "source": [
    "#List DataType\n",
    "itemsList = ['items1', 100, 'package', 34, 23.5,12]; #itemsList is a variable.\n",
    "print('Items List is',itemsList);\n",
    "print('Items List DataType is',type(itemsList));"
   ]
  },
  {
   "cell_type": "markdown",
   "id": "291b73e5-3539-47b8-ba5f-519dfaa039fc",
   "metadata": {},
   "source": [
    "### CRUD With List DataType"
   ]
  },
  {
   "cell_type": "code",
   "execution_count": 51,
   "id": "28d40bc5-4814-4609-a0a1-4a6987f351a2",
   "metadata": {},
   "outputs": [
    {
     "name": "stdout",
     "output_type": "stream",
     "text": [
      "Items no.1 in itemsList is: 1\n",
      "Items no.5 in itemsList is: aslam\n",
      "After updating the item no.5 is: 123\n",
      "Items List After Deleting first index value: [1, 2, 3, 4, 123, 'items34']\n",
      "Items List After Deleting first index value: [2, 3, 4, 123, 'items34']\n",
      "Items List After Adding a new item is: [2, 3, 4, 123, 'items34', 13]\n",
      "Items List After Adding a new item is: [1111, 2, 3, 4, 123, 'items34', 13]\n",
      "ItemsList Size is: 7\n",
      "ItemsList length index value is: 13\n"
     ]
    }
   ],
   "source": [
    "#Creating The List\n",
    "\n",
    "itemsList = [1,2,3,4,'aslam','items34'];\n",
    "\n",
    "\n",
    "#Reading The List Values\n",
    "print('Items no.1 in itemsList is:',itemsList[0]);\n",
    "print('Items no.5 in itemsList is:',itemsList[4]);\n",
    "\n",
    "#Updating The List Values\n",
    "itemsList[4]=123;\n",
    "print('After updating the item no.5 is:',itemsList[4]);\n",
    "\n",
    "#Deleting The List Values\n",
    "print('Items List After Deleting first index value:',itemsList);\n",
    "del itemsList[0];\n",
    "print('Items List After Deleting first index value:',itemsList);\n",
    "\n",
    "#Adding Items In A List\n",
    "itemsList.append(13);\n",
    "print('Items List After Adding a new item is:',itemsList);\n",
    "\n",
    "#Adding/Inserting An Item In A Specific Index\n",
    "itemsList.insert(0,1111);\n",
    "print('Items List After Adding a new item is:',itemsList);\n",
    "\n",
    "#Showing the itemsList Size\n",
    "print('ItemsList Size is:',len(itemsList));\n",
    "\n",
    "#Printing the last index value:\n",
    "print('ItemsList length index value is:',itemsList[-1]);"
   ]
  },
  {
   "cell_type": "markdown",
   "id": "55b56aee-d875-437b-960e-120416fab150",
   "metadata": {},
   "source": [
    "### Tuple DataType"
   ]
  },
  {
   "cell_type": "code",
   "execution_count": 6,
   "id": "38e2a434-e07d-4b62-a74b-fc207d0a8bd8",
   "metadata": {},
   "outputs": [
    {
     "name": "stdout",
     "output_type": "stream",
     "text": [
      "Items Tuple is (1, 2, 3, 12.1, 3423, 23.4, 'mangos')\n",
      "Items Tuple DataType is <class 'tuple'>\n"
     ]
    }
   ],
   "source": [
    "#Tuple DataType\n",
    "\n",
    "itemsTyple = (1, 2, 3, 12.1, 3423, 23.4, 'mangos');\n",
    "print('Items Tuple is',itemsTyple);\n",
    "print('Items Tuple DataType is',type(itemsTyple));"
   ]
  },
  {
   "cell_type": "code",
   "execution_count": 7,
   "id": "f051a5cd-8234-425c-9caf-d2b5fc501fe2",
   "metadata": {},
   "outputs": [
    {
     "name": "stdout",
     "output_type": "stream",
     "text": [
      "Items no.1 in itemsTyple is: 1\n",
      "Items no.5 in itemsTyple is: 3423\n"
     ]
    }
   ],
   "source": [
    "#Reading The Tuple Values\n",
    "print('Items no.1 in itemsTyple is:',itemsTyple[0]);\n",
    "print('Items no.5 in itemsTyple is:',itemsTyple[4]);\n",
    "\n",
    "#Updating The Tuple Values\n",
    "#itemsTyple[4]=123; #Not possible in tuple\n",
    "#print('After updating the tuple item no.5 is:',itemsTyple[4]);"
   ]
  },
  {
   "cell_type": "markdown",
   "id": "3afd1d2b-0904-4e65-be84-597215d4c891",
   "metadata": {},
   "source": [
    "### Sets DataType"
   ]
  },
  {
   "cell_type": "code",
   "execution_count": 3,
   "id": "df85502a-3015-4c6d-b70d-b7139224baaa",
   "metadata": {},
   "outputs": [
    {
     "name": "stdout",
     "output_type": "stream",
     "text": [
      "Items in a set is {1, 2, 3, 4, 5}\n"
     ]
    }
   ],
   "source": [
    "#Sets DataType\n",
    "\n",
    "itemsSets = {1, 2, 3, 4, 5, 1, 2};\n",
    "#print('item no.1 in set is:', itemsSets[0]); //Not Possible\n",
    "print(\"Items in a set is\",itemsSets);"
   ]
  },
  {
   "cell_type": "markdown",
   "id": "009002f0-0aa8-48ca-9c95-865959827207",
   "metadata": {},
   "source": [
    "### TypeCasting"
   ]
  },
  {
   "cell_type": "code",
   "execution_count": 1,
   "id": "2c667e09-bf15-4aa5-82c0-28ae4c84b259",
   "metadata": {},
   "outputs": [
    {
     "data": {
      "text/plain": [
       "[1, 2, 3, 4, 5]"
      ]
     },
     "execution_count": 1,
     "metadata": {},
     "output_type": "execute_result"
    }
   ],
   "source": [
    "#Type Casting \n",
    "# Let's suppose we have a list that contains duplicate values and we want to remove the duplicate values then Used Sets:\n",
    "\n",
    "ListIs = [1,2,3,4,5,1,2,3]; #Contain Duplicate Values\n",
    "list(set(ListIs)) #Done\n"
   ]
  },
  {
   "cell_type": "markdown",
   "id": "7b5da375-9ae0-487e-8973-05f1c3d0df3b",
   "metadata": {},
   "source": [
    "### Dictionary DataType"
   ]
  },
  {
   "cell_type": "code",
   "execution_count": 56,
   "id": "d58fefbb-2067-44f6-99a5-14291987b3f5",
   "metadata": {},
   "outputs": [
    {
     "name": "stdout",
     "output_type": "stream",
     "text": [
      "User Dictionary is: {'name': 'Ali', 'age': 22, 'address': 'Karachi, Pakistan'}\n"
     ]
    }
   ],
   "source": [
    "#Dictionary DataType\n",
    "\n",
    "userDictionary = {'name':'Ali', 'age':22, 'address': 'Karachi, Pakistan'};\n",
    "print(\"User Dictionary is:\",userDictionary);"
   ]
  },
  {
   "cell_type": "markdown",
   "id": "1b07ba63-8810-4e7f-a6a9-9ce273eafee4",
   "metadata": {},
   "source": [
    "### CRUD With Dictionary DataType"
   ]
  },
  {
   "cell_type": "code",
   "execution_count": 57,
   "id": "916e801e-45f7-4fbb-852e-dee6ccb994f3",
   "metadata": {},
   "outputs": [
    {
     "name": "stdout",
     "output_type": "stream",
     "text": [
      "itemDictionary Values are: {'itemName': 'Bag', 'itemQuantity': 20, 'itemSize': 'Mix Size'}\n",
      "itemDictionary only keys are: dict_keys(['itemName', 'itemQuantity', 'itemSize'])\n",
      "itemDictionary only values are: dict_values(['Bag', 20, 'Mix Size'])\n",
      "itemDictionary, name is Bag\n",
      "Items Quantity after updatation is: 40\n",
      "itemDictionaryis: {'itemName': 'Bag', 'itemQuantity': 40, 'itemSize': 'Mix Size', 'itemNo': 'ASD123'}\n",
      "itemDictionaryis: {'itemName': 'Bag', 'itemQuantity': 40, 'itemNo': 'ASD123'}\n"
     ]
    }
   ],
   "source": [
    "#Creating a Dictionary \n",
    "\n",
    "itemDictionary = {'itemName':'Bag', 'itemQuantity':20, 'itemSize' : 'Mix Size' };\n",
    "\n",
    "\n",
    "#Reading a Dictionary Values\n",
    "print('itemDictionary Values are:',itemDictionary);\n",
    "print('itemDictionary only keys are:',itemDictionary.keys());\n",
    "print('itemDictionary only values are:',itemDictionary.values());\n",
    "print('itemDictionary, name is',itemDictionary['itemName']);\n",
    "\n",
    "\n",
    "#Updating a Dictionary Values\n",
    "itemDictionary['itemQuantity'] = 40;\n",
    "print('Items Quantity after updatation is:',itemDictionary['itemQuantity']);\n",
    "\n",
    "\n",
    "#Adding in a Dictionary \n",
    "\n",
    "itemDictionary['itemNo'] = 'ASD123';\n",
    "print('itemDictionaryis:',itemDictionary);\n",
    "\n",
    "\n",
    "#Deleting a Dictionary Values\n",
    "\n",
    "del itemDictionary['itemSize'];\n",
    "print('itemDictionaryis:',itemDictionary);\n",
    "\n"
   ]
  },
  {
   "cell_type": "markdown",
   "id": "48116e4d-e9c4-4222-b0b3-d6a031554b93",
   "metadata": {},
   "source": [
    "## 2. Conditions"
   ]
  },
  {
   "cell_type": "markdown",
   "id": "7286669f-22ac-4093-bcb6-32beed793cf5",
   "metadata": {},
   "source": [
    "### If Condition"
   ]
  },
  {
   "cell_type": "code",
   "execution_count": 58,
   "id": "c9c94528-406f-4be9-bfad-cf08a4e7ff86",
   "metadata": {},
   "outputs": [
    {
     "name": "stdout",
     "output_type": "stream",
     "text": [
      "pass\n"
     ]
    }
   ],
   "source": [
    "marks = 68;\n",
    "\n",
    "if marks>40:  \n",
    "    print('pass');"
   ]
  },
  {
   "cell_type": "markdown",
   "id": "ee88e83b-fc5c-4da7-950c-ead76319d950",
   "metadata": {},
   "source": [
    "### Else Condition"
   ]
  },
  {
   "cell_type": "code",
   "execution_count": 59,
   "id": "b2c35c6e-572a-4c04-ba32-6a849b74ade6",
   "metadata": {},
   "outputs": [
    {
     "name": "stdout",
     "output_type": "stream",
     "text": [
      "fail\n"
     ]
    }
   ],
   "source": [
    "marks = 18;\n",
    "\n",
    "if marks>40:\n",
    "    print('pass');\n",
    "else:\n",
    "    print('fail');"
   ]
  },
  {
   "cell_type": "markdown",
   "id": "dd4855ba-a791-423c-8430-9b034e057d39",
   "metadata": {},
   "source": [
    "### Else-If Condition"
   ]
  },
  {
   "cell_type": "code",
   "execution_count": 60,
   "id": "5fa8a281-8ce7-4f35-8327-916b72592398",
   "metadata": {},
   "outputs": [
    {
     "name": "stdout",
     "output_type": "stream",
     "text": [
      "Grade - B\n"
     ]
    }
   ],
   "source": [
    "marks = 80;\n",
    "\n",
    "if marks>=90:\n",
    "    print('Grade - A');\n",
    "elif marks>=80:\n",
    "    print('Grade - B');\n",
    "else:\n",
    "    print('Grade - C');\n",
    "\n",
    "\n"
   ]
  },
  {
   "cell_type": "markdown",
   "id": "f6bdb9fa-4339-499c-9fb6-3c0c942f4859",
   "metadata": {},
   "source": [
    "### In Condition"
   ]
  },
  {
   "cell_type": "code",
   "execution_count": 61,
   "id": "10724ad5-2d5a-481b-bbb6-b69795fc4d40",
   "metadata": {},
   "outputs": [
    {
     "name": "stdout",
     "output_type": "stream",
     "text": [
      "No 11 does not exist in numbers List\n"
     ]
    }
   ],
   "source": [
    "numbersList = [1,2,3,4,5,6,7,8,9,10];\n",
    "findingNumberIs = 11;\n",
    "if findingNumberIs in numbersList:\n",
    "    print('Yes',findingNumberIs,'exist in numbers List');\n",
    "else:\n",
    "    print('No',findingNumberIs,'does not exist in numbers List'); "
   ]
  },
  {
   "cell_type": "markdown",
   "id": "3cf7bbbb-a4aa-42f6-b213-9c0caeb604e7",
   "metadata": {},
   "source": [
    "## 3. Loops"
   ]
  },
  {
   "cell_type": "markdown",
   "id": "84833eac-faeb-4584-9a75-d2da673f08c7",
   "metadata": {},
   "source": [
    "### For Loop"
   ]
  },
  {
   "cell_type": "code",
   "execution_count": 62,
   "id": "64099ee3-c582-4ce5-a7de-39add858c2b0",
   "metadata": {},
   "outputs": [
    {
     "name": "stdout",
     "output_type": "stream",
     "text": [
      "ali\n",
      "aslam\n",
      "yaseen\n",
      "mubeen\n",
      "hasan\n",
      "0\n",
      "1\n",
      "2\n",
      "3\n",
      "4\n",
      "5\n",
      "6\n",
      "7\n",
      "8\n",
      "9\n",
      "1\n",
      "2\n",
      "3\n",
      "4\n",
      "5\n",
      "6\n",
      "7\n",
      "8\n",
      "9\n",
      "10\n"
     ]
    }
   ],
   "source": [
    "namesList = ['ali','aslam','yaseen','mubeen','hasan'];\n",
    "for names in namesList: #name, is used for lopping....\n",
    "    print(names)\n",
    "\n",
    "\n",
    "\n",
    "#If You Wanna To Loop X Number Of Times....\n",
    "\n",
    "for times in range(10):\n",
    "    print(times)\n",
    "\n",
    "#OR\n",
    "\n",
    "\n",
    "for times in range(1,11):\n",
    "    print(times)\n"
   ]
  },
  {
   "cell_type": "markdown",
   "id": "928fd082-81de-4dbf-ac78-c4bc3b05e31f",
   "metadata": {},
   "source": [
    "### While Loop"
   ]
  },
  {
   "cell_type": "code",
   "execution_count": 63,
   "id": "114093f9-ed63-4008-b9bb-e7766a168a15",
   "metadata": {},
   "outputs": [
    {
     "name": "stdout",
     "output_type": "stream",
     "text": [
      "Till now! startFrom is not reached upto\n",
      "1\n",
      "Till now! startFrom is not reached upto\n",
      "2\n",
      "Till now! startFrom is not reached upto\n",
      "3\n",
      "Till now! startFrom is not reached upto\n",
      "4\n",
      "Till now! startFrom is not reached upto\n",
      "5\n",
      "Reached\n"
     ]
    }
   ],
   "source": [
    "\n",
    "startsFrom = 0;\n",
    "upto = 5;\n",
    "\n",
    "while True:\n",
    "    print('Till now! startFrom is not reached upto');\n",
    "    startsFrom += 1;\n",
    "    print(startsFrom)\n",
    "    if startsFrom == upto:\n",
    "        print('Reached');\n",
    "        break;\n"
   ]
  },
  {
   "cell_type": "markdown",
   "id": "83494a4c-8b40-4469-94eb-6bcd36ba0135",
   "metadata": {},
   "source": [
    "### Statements In Loops: Break & Continue"
   ]
  },
  {
   "cell_type": "markdown",
   "id": "f7a4f549-4da4-4895-96e0-c75c7ee85b4e",
   "metadata": {},
   "source": [
    "#### Continue Statement Example "
   ]
  },
  {
   "cell_type": "code",
   "execution_count": 64,
   "id": "78539013-3db4-4b5c-bde3-193de3fe8e24",
   "metadata": {},
   "outputs": [
    {
     "name": "stdout",
     "output_type": "stream",
     "text": [
      "number is 1\n",
      "number is 2\n",
      "number is 3\n",
      "number is 4\n",
      "number is 6\n",
      "number is 7\n",
      "number is 8\n",
      "number is 9\n",
      "number is 10\n"
     ]
    }
   ],
   "source": [
    "numbersList = [1,2,3,4,5,6,7,8,9,10]\n",
    "for numbers in numbersList:\n",
    "    if(numbers==5):\n",
    "        continue #skip on this number\n",
    "    else:\n",
    "        print('number is',numbers);"
   ]
  },
  {
   "cell_type": "markdown",
   "id": "a62eb374-3e58-4b48-878f-6dd041dcc75c",
   "metadata": {},
   "source": [
    "#### Break Statement Example "
   ]
  },
  {
   "cell_type": "code",
   "execution_count": 65,
   "id": "2848b45f-2b17-410c-9278-c43ccba58bff",
   "metadata": {},
   "outputs": [
    {
     "name": "stdout",
     "output_type": "stream",
     "text": [
      "number is 1\n",
      "number is 2\n",
      "number is 3\n",
      "number is 4\n"
     ]
    }
   ],
   "source": [
    "numbersList = [1,2,3,4,5,6,7,8,9,10]\n",
    "for numbers in numbersList:\n",
    "    if(numbers==5):\n",
    "        break #Exit on this number\n",
    "    else:\n",
    "        print('number is',numbers);"
   ]
  },
  {
   "cell_type": "markdown",
   "id": "6fc00c87-ffdb-4214-8076-85df14c1bfb5",
   "metadata": {},
   "source": [
    "### Looping In A Dictionary "
   ]
  },
  {
   "cell_type": "code",
   "execution_count": 10,
   "id": "f404394e-213f-47c5-8a58-fe8dc4ca610d",
   "metadata": {},
   "outputs": [
    {
     "name": "stdout",
     "output_type": "stream",
     "text": [
      "User Dictionary is: {'name': 'Ali', 'age': 22, 'address': 'Karachi, Pakistan'}\n",
      "name\n",
      "age\n",
      "address\n",
      "Ali\n",
      "22\n",
      "Karachi, Pakistan\n",
      "key: name , Value: Ali\n",
      "key: age , Value: 22\n",
      "key: address , Value: Karachi, Pakistan\n"
     ]
    }
   ],
   "source": [
    "userDictionary = {'name':'Ali', 'age':22, 'address': 'Karachi, Pakistan'};\n",
    "print(\"User Dictionary is:\",userDictionary);\n",
    "\n",
    "\n",
    "#Looping userDictionary Keys\n",
    "\n",
    "for userDictKeysAre in userDictionary.keys():\n",
    "    print(userDictKeysAre)\n",
    "\n",
    "\n",
    "#Looping userDictionary Values\n",
    "\n",
    "for userDictValuesAre in userDictionary.values():\n",
    "    print(userDictValuesAre)\n",
    "\n",
    "\n",
    "#Looping keys and values of userDictionary\n",
    "\n",
    "for userKey,userValue in userDictionary.items():\n",
    "    print('key:',userKey,', Value:',userValue);\n",
    "\n",
    "\n"
   ]
  },
  {
   "cell_type": "markdown",
   "id": "727c5941-9ab9-4f73-b664-749cd54cfa55",
   "metadata": {},
   "source": [
    "### List Comprehensive "
   ]
  },
  {
   "cell_type": "code",
   "execution_count": 8,
   "id": "1d6cbba0-6f49-473c-8ab5-cfe3abccd19d",
   "metadata": {},
   "outputs": [
    {
     "data": {
      "text/plain": [
       "['Ali', 'Aslam', 'Ahmad', 'Abdul', 'Abuzar']"
      ]
     },
     "execution_count": 8,
     "metadata": {},
     "output_type": "execute_result"
    }
   ],
   "source": [
    "namesAre = ['ali', 'aslam', 'ahmad', 'abdul', 'abuzar'];\n",
    "\n",
    "namesTitlesAre = [ name.title() for name in namesAre];\n",
    "namesTitlesAre"
   ]
  },
  {
   "cell_type": "markdown",
   "id": "37d21d53-a789-403c-bb5b-247b76932def",
   "metadata": {},
   "source": [
    "## 4. Functions"
   ]
  },
  {
   "cell_type": "code",
   "execution_count": 68,
   "id": "662578f1-ea07-4995-8709-aa37195c67c5",
   "metadata": {},
   "outputs": [
    {
     "name": "stdout",
     "output_type": "stream",
     "text": [
      "Welcome to the python course\n",
      "25\n"
     ]
    }
   ],
   "source": [
    "#Defining a Simple Function\n",
    "\n",
    "def welcome():\n",
    "    print('Welcome to the python course')\n",
    "\n",
    "#Calling a Function\n",
    "welcome()\n",
    "\n",
    "\n",
    "def sum(a,b):\n",
    "    print(a+b)\n",
    "\n",
    "sum(23,2)"
   ]
  },
  {
   "cell_type": "code",
   "execution_count": 69,
   "id": "884d8a81-bb56-4d3f-9ae3-9ae9490dc74a",
   "metadata": {},
   "outputs": [
    {
     "name": "stdout",
     "output_type": "stream",
     "text": [
      "Welcome to the python course Moeen Ahmad\n",
      "Welcome to the python course ali\n",
      "Welcome to the python course asad\n",
      "Welcome to the python course afaq\n",
      "Welcome to the python course mursaleen\n",
      "Welcome to the python course mubeen\n",
      "Welcome to the python course yaseen\n",
      "Welcome to the python course hassan\n",
      "Welcome to the python course arshiyan\n",
      "Welcome to the python course amad\n"
     ]
    }
   ],
   "source": [
    "#Defining an Arguement Based Function\n",
    "\n",
    "def customWelcome(name):\n",
    "    print('Welcome to the python course',name)\n",
    "\n",
    "#For Single User\n",
    "customWelcome('Moeen Ahmad')\n",
    "\n",
    "#For Multiple Users\n",
    "namesAre = ['ali','asad','afaq','mursaleen','mubeen','yaseen','hassan','arshiyan','amad']\n",
    "for names in namesAre:\n",
    "    customWelcome(names)\n",
    "\n"
   ]
  },
  {
   "cell_type": "code",
   "execution_count": 70,
   "id": "2a42b78a-625e-4bbe-a636-affe7f5635e5",
   "metadata": {},
   "outputs": [
    {
     "name": "stdout",
     "output_type": "stream",
     "text": [
      "Welcome To The: Mubeen , Who is: Developer\n",
      "Welcome To The: Yaseen , Who is: Engineer\n",
      "Welcome To The: Hassan , Who is: Lawyer\n"
     ]
    }
   ],
   "source": [
    "#Multiple Arguments, Lets suppose we have two lists then:\n",
    "\n",
    "def welcomeWithRoles(nameIs,roleIs):\n",
    "    print('Welcome To The:',nameIs,', Who is:',roleIs)\n",
    "\n",
    "\n",
    "namesList = ['Mubeen','Yaseen','Hassan']\n",
    "rolesList = ['Developer', 'Engineer', 'Lawyer']\n",
    "\n",
    "for index, namesAre in enumerate(namesList):\n",
    "    roleAre = rolesList[index]\n",
    "    welcomeWithRoles(namesAre,roleAre)\n",
    "\n",
    "\n",
    "\n"
   ]
  },
  {
   "cell_type": "code",
   "execution_count": 71,
   "id": "9255ad3c-953b-46be-bdcc-a4d1298ce85d",
   "metadata": {},
   "outputs": [
    {
     "name": "stdout",
     "output_type": "stream",
     "text": [
      "12 After multiplying by 5 is =  60\n"
     ]
    }
   ],
   "source": [
    "#Lambda Function or also known as Anonymous Fucntion: It must be in single line..\n",
    "\n",
    "mutipleByFive = lambda x: x*5\n",
    "number = 12\n",
    "#mutipleByFive(2) \n",
    "print(number,'After multiplying by 5 is = ',mutipleByFive(number))\n",
    "\n"
   ]
  },
  {
   "cell_type": "markdown",
   "id": "24edbcd9-40a0-45b9-a687-89387a38aff9",
   "metadata": {},
   "source": [
    "## 5. Classes"
   ]
  },
  {
   "cell_type": "code",
   "execution_count": 72,
   "id": "ba79eabc-f64f-4d2f-a559-64bb80d5a253",
   "metadata": {},
   "outputs": [
    {
     "name": "stdout",
     "output_type": "stream",
     "text": [
      "Aslam\n",
      "32\n",
      "Aslam is Passed\n"
     ]
    }
   ],
   "source": [
    "#Defining a Class For Student\n",
    "\n",
    "class Student():\n",
    "\n",
    "\n",
    "    def __init__(self, stdName,stdRollNo):\n",
    "        #Attributes/Properties\n",
    "        self.studentName = stdName\n",
    "        self.studentRollNo = stdRollNo\n",
    "\n",
    "    #Method/Function\n",
    "    def studentStatus(self):\n",
    "        print(self.studentName,'is Passed');\n",
    "\n",
    "\n",
    "#Creating Student Class Object\n",
    "\n",
    "student1 = Student('Aslam',32);\n",
    "\n",
    "#Accessing created class properties/Attributes\n",
    "\n",
    "print(student1.studentName)\n",
    "print(student1.studentRollNo)\n",
    "\n",
    "#Accessing created class Methods/Functions\n",
    "student1.studentStatus()\n"
   ]
  },
  {
   "cell_type": "code",
   "execution_count": 73,
   "id": "881e0940-7a8d-4e05-864b-e5d67aa24eb6",
   "metadata": {},
   "outputs": [
    {
     "name": "stdout",
     "output_type": "stream",
     "text": [
      "This is Parent Class\n",
      "This is Child Class\n",
      "This is the parent class method\n",
      "This is the child class method\n"
     ]
    }
   ],
   "source": [
    "#Inheritance\n",
    "\n",
    "#Parent Class\n",
    "class ParentClass():\n",
    "\n",
    "    def __init__(self):\n",
    "        print('This is Parent Class')\n",
    "\n",
    "\n",
    "    def parentClassMethod(self):\n",
    "        print('This is the parent class method')\n",
    "\n",
    "\n",
    "#Child Class\n",
    "class ChildClass(ParentClass):\n",
    "\n",
    "\n",
    "    def __init__(self):\n",
    "       super().__init__() #Accessing the parent class methods/Properties Using Super Keyword\n",
    "       print('This is Child Class') \n",
    "\n",
    "    def childClassMethod(self):\n",
    "        print('This is the child class method')\n",
    "\n",
    "\n",
    "#Creating Object Of Child Class\n",
    "\n",
    "obj = ChildClass();\n",
    "obj.parentClassMethod()\n",
    "obj.childClassMethod()"
   ]
  },
  {
   "cell_type": "markdown",
   "id": "ea49a808-c19d-444d-9b4a-2f2dbe4f04ff",
   "metadata": {},
   "source": [
    "## 6. Modules"
   ]
  },
  {
   "cell_type": "code",
   "execution_count": 79,
   "id": "e11640ca-52ca-49af-834a-69ef0d39045e",
   "metadata": {},
   "outputs": [
    {
     "name": "stdout",
     "output_type": "stream",
     "text": [
      "hello\n",
      "hyy\n",
      "ali\n",
      "This is message.....\n",
      "Simple\n",
      "Demo\n"
     ]
    }
   ],
   "source": [
    "# Importing Module\n",
    "\n",
    "import importlib \n",
    "import modules as code\n",
    "\n",
    "\n",
    "#This is for clearning the cache & reloading the modules code.\n",
    "importlib.reload(code)\n",
    "\n",
    "code.hello()\n",
    "code.hy()\n",
    "print(code.name)\n",
    "print(code.message)\n",
    "\n",
    "code.simple()\n",
    "code.demo()\n"
   ]
  },
  {
   "cell_type": "markdown",
   "id": "a780185b-e093-49d1-a4ca-85ba4ef0b6a9",
   "metadata": {},
   "source": [
    "## 7. Working With Pacakges"
   ]
  },
  {
   "cell_type": "code",
   "execution_count": 82,
   "id": "aef8fa9f-dd85-445a-bd1e-a309749d456a",
   "metadata": {},
   "outputs": [
    {
     "name": "stdout",
     "output_type": "stream",
     "text": [
      "Requirement already satisfied: requests in /opt/anaconda3/lib/python3.12/site-packages (2.32.2)\n",
      "Requirement already satisfied: charset-normalizer<4,>=2 in /opt/anaconda3/lib/python3.12/site-packages (from requests) (2.0.4)\n",
      "Requirement already satisfied: idna<4,>=2.5 in /opt/anaconda3/lib/python3.12/site-packages (from requests) (3.7)\n",
      "Requirement already satisfied: urllib3<3,>=1.21.1 in /opt/anaconda3/lib/python3.12/site-packages (from requests) (2.2.2)\n",
      "Requirement already satisfied: certifi>=2017.4.17 in /opt/anaconda3/lib/python3.12/site-packages (from requests) (2024.6.2)\n"
     ]
    }
   ],
   "source": [
    "!pip install requests"
   ]
  },
  {
   "cell_type": "code",
   "execution_count": 121,
   "id": "90e7278a-2cca-49df-9421-5160f60fb840",
   "metadata": {},
   "outputs": [
    {
     "name": "stdout",
     "output_type": "stream",
     "text": [
      "Status Code is: 200\n",
      "Joke Is:  What did the Buffalo say to his little boy when he dropped him off at school? Bison.\n",
      "ID Is:  wX0gNuXgVnb\n"
     ]
    }
   ],
   "source": [
    "#Importing Requests Pacakge\n",
    "\n",
    "import requests\n",
    "\n",
    "#Defining/Mentioning the URL & header\n",
    "url = 'https://icanhazdadjoke.com'\n",
    "myHeaders = {'Accept': 'application/json'} #Header is for that, We already read the joke api format which response is in json.\n",
    "\n",
    "response = requests.get(url,headers=myHeaders) #API-Call\n",
    "\n",
    "#Checking response statuc code & then doing something otherwise throwing an error with status code\n",
    "if response.status_code==200:\n",
    "    print('Status Code is:',response.status_code)\n",
    "    jokeIs = response.json()['joke']\n",
    "    idIs = response.json()['id']\n",
    "    print('Joke Is: ',jokeIs)\n",
    "    print('ID Is: ',idIs)\n",
    "else:\n",
    "    print('Status Code is: ',response.status_code)\n",
    "    "
   ]
  },
  {
   "cell_type": "markdown",
   "id": "875d4061-7040-48fa-b8b1-65b1164575d0",
   "metadata": {},
   "source": [
    "## 8. Working With Files"
   ]
  },
  {
   "cell_type": "code",
   "execution_count": 9,
   "id": "f34687ca-6b0e-4b8f-b095-343f1d9231d5",
   "metadata": {},
   "outputs": [],
   "source": [
    "#Writing in a File\n",
    "\n",
    "with open('writingFile.txt','w') as file:\n",
    "    file.write('This is a simple text inside the writing File!')\n",
    "    file.write('Another Updated Line is added')\n"
   ]
  },
  {
   "cell_type": "code",
   "execution_count": 18,
   "id": "cfd0a8f2-bc21-4f7a-8425-e7405beb1142",
   "metadata": {},
   "outputs": [
    {
     "name": "stdout",
     "output_type": "stream",
     "text": [
      "This is our reading file text.\n"
     ]
    }
   ],
   "source": [
    "#Reading From a File\n",
    "\n",
    "with open('readingFile.txt','r') as file:\n",
    "    readFile = file.read()\n",
    "    print(readFile)"
   ]
  },
  {
   "cell_type": "markdown",
   "id": "7aa0f03c-61b2-49c4-994a-fa3bc5ac5144",
   "metadata": {},
   "source": [
    "## 9. Error Handling"
   ]
  },
  {
   "cell_type": "code",
   "execution_count": 30,
   "id": "8fbe0dea-c231-4777-9afb-f54529fbb07a",
   "metadata": {},
   "outputs": [
    {
     "name": "stdout",
     "output_type": "stream",
     "text": [
      "'set' object does not support item assignment\n"
     ]
    }
   ],
   "source": [
    "#Without Error Handling Technique:\n",
    "#numberSet = {1,2,3,4,4}\n",
    "#numberSet[4]= 5\n",
    "\n",
    "#With Error Handling Technique:\n",
    "try:\n",
    "    #Code.\n",
    "    numberSet = {1,2,3,4,4}\n",
    "    numberSet[4]= 5\n",
    "except Exception as e:\n",
    "    #If Error detected then it will shown the exact error cause here.\n",
    "    print(e)"
   ]
  },
  {
   "cell_type": "markdown",
   "id": "3672556a-cbfb-4033-b563-639759c58d6a",
   "metadata": {},
   "source": [
    "## 10. Asynchronous Programming "
   ]
  },
  {
   "cell_type": "code",
   "execution_count": 35,
   "id": "e7276ac8-75a2-4a06-bd43-589f9f607184",
   "metadata": {},
   "outputs": [
    {
     "name": "stdout",
     "output_type": "stream",
     "text": [
      "Task 1 is running\n",
      "Task 1 Completed\n",
      "Task 2 is running\n",
      "Task 2 Completed\n"
     ]
    }
   ],
   "source": [
    "#Synchronous Programming\n",
    "\n",
    "import time\n",
    "\n",
    "def task1():\n",
    "    print('Task 1 is running')\n",
    "    time.sleep(1)\n",
    "    print('Task 1 Completed')\n",
    "\n",
    "def task2():\n",
    "    print('Task 2 is running')\n",
    "    time.sleep(2)\n",
    "    print('Task 2 Completed')\n",
    "\n",
    "\n",
    "task1()\n",
    "task2()"
   ]
  },
  {
   "cell_type": "code",
   "execution_count": 53,
   "id": "c80b03a6-12f8-4d4f-9b92-e1c862de3eda",
   "metadata": {},
   "outputs": [
    {
     "name": "stdout",
     "output_type": "stream",
     "text": [
      "Task1 is running\n",
      "Task 2 is running\n",
      "Task 2 Completed\n",
      "Task 1 Completed\n"
     ]
    },
    {
     "data": {
      "text/plain": [
       "[None, None]"
      ]
     },
     "execution_count": 53,
     "metadata": {},
     "output_type": "execute_result"
    }
   ],
   "source": [
    "#Asynchronous Programming\n",
    "\n",
    "import asyncio\n",
    "\n",
    "async def task1():\n",
    "    print('Task1 is running')\n",
    "    await asyncio.sleep(12)\n",
    "    print('Task 1 Completed')\n",
    "\n",
    "async def task2():\n",
    "    print('Task 2 is running')\n",
    "    await asyncio.sleep(1)\n",
    "    print('Task 2 Completed')\n",
    "\n",
    "#Both methods/tasks running independently. \n",
    "#await task1()\n",
    "#await task2()\n",
    "#Both methods/tasks running together. \n",
    "await asyncio.gather(task1(), task2())"
   ]
  }
 ],
 "metadata": {
  "kernelspec": {
   "display_name": "Python 3 (ipykernel)",
   "language": "python",
   "name": "python3"
  },
  "language_info": {
   "codemirror_mode": {
    "name": "ipython",
    "version": 3
   },
   "file_extension": ".py",
   "mimetype": "text/x-python",
   "name": "python",
   "nbconvert_exporter": "python",
   "pygments_lexer": "ipython3",
   "version": "3.12.4"
  }
 },
 "nbformat": 4,
 "nbformat_minor": 5
}
